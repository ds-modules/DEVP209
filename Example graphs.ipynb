{
 "cells": [
  {
   "cell_type": "markdown",
   "id": "198aeaf6-93bf-4ecc-8893-5a49f25c62a9",
   "metadata": {},
   "source": [
    "### Imports"
   ]
  },
  {
   "cell_type": "code",
   "execution_count": null,
   "id": "79c68ef0-dbad-42da-b2f2-081e298b1f09",
   "metadata": {},
   "outputs": [],
   "source": [
    "import pandas as pd\n",
    "import datetime\n",
    "import numpy as np\n",
    "import matplotlib.pyplot as plt"
   ]
  },
  {
   "cell_type": "markdown",
   "id": "dec2f7b4-7c61-4fab-a73a-14e80284dae4",
   "metadata": {},
   "source": [
    "### Data processing"
   ]
  },
  {
   "cell_type": "code",
   "execution_count": null,
   "id": "f219f3a4-ec18-4728-8d99-26802fe9dd19",
   "metadata": {
    "scrolled": true
   },
   "outputs": [],
   "source": [
    "# The data had initial rows (1-6) that were not part of the table. I manually deleted these to preprocess\n",
    "# I then saved that file as .csv\n",
    "# You all may just use the .csv files in this folder as is, just wanted to share what happened previously\n",
    "\n",
    "#Read in file\n",
    "arrests = pd.read_csv('2025-ICLI-00019_2024-ICFO-39357_ERO Admin Arrests.csv')\n",
    "\n",
    "#Data cleaning\n",
    "arrests = arrests.dropna(subset = 'Birth Year')\n",
    "# This allows me to see all columns\n",
    "# print(arrests.columns)\n",
    "\n",
    "# This lets you see the data in the first row\n",
    "print(arrests.iloc[0])\n",
    "\n",
    "# This allows you to see the top five rows; often truncates columns which is why I did the above\n",
    "arrests.head()"
   ]
  },
  {
   "cell_type": "code",
   "execution_count": null,
   "id": "849f328c-bc9d-47c2-b841-cad98c34c67f",
   "metadata": {},
   "outputs": [],
   "source": [
    "# For arrests, the data does not have age (or birth date) but it does have birth year, so bucket by that\n",
    "#Find the current year\n",
    "current_year = datetime.datetime.today().year #2025\n",
    "arrests['age'] = current_year - arrests['Birth Year']\n",
    "arrests['Apprehension Date'] = pd.to_datetime(arrests['Apprehension Date'],format='%m/%d/%Y %H:%M')\n",
    "arrests['Apprehension Day'] = arrests['Apprehension Date'].dt.date"
   ]
  },
  {
   "cell_type": "markdown",
   "id": "dcee0c8d-4eee-47a2-ab37-3e6b23733866",
   "metadata": {},
   "source": [
    "## Histogram example"
   ]
  },
  {
   "cell_type": "code",
   "execution_count": null,
   "id": "d260923f-6bbc-471d-a183-cfd3ad1bbf76",
   "metadata": {},
   "outputs": [],
   "source": [
    "#Get every ten years for group, assume 100 is oldest group\n",
    "agegroup = 1# Can do 10 to group by ten years\n",
    "bins = np.linspace(0,100,int((100/agegroup))+1)\n",
    "\n",
    "# Plot and label\n",
    "plt.hist(arrests['age'], bins=bins)\n",
    "plt.title('Histogram of Arrests by Age')\n",
    "plt.xlabel('Age')\n",
    "plt.ylabel('Count')"
   ]
  },
  {
   "cell_type": "markdown",
   "id": "359637c0-bfd1-43b0-b5c9-65884910a699",
   "metadata": {},
   "source": [
    "## Density Example"
   ]
  },
  {
   "cell_type": "code",
   "execution_count": null,
   "id": "a604b846-23a4-446c-8ced-894ea9b555ba",
   "metadata": {},
   "outputs": [],
   "source": [
    "## Density example\n",
    "import seaborn as sns\n",
    "sns.kdeplot(arrests['age'], bw_adjust=1)  # `bw_adjust` can tweak smoothness\n",
    "plt.xlabel('Age')\n",
    "plt.ylabel('Density')\n",
    "plt.title('Probability Density Function of Age')\n",
    "plt.grid(True)"
   ]
  },
  {
   "cell_type": "markdown",
   "id": "78a86090-e494-4602-90a4-e3949ad8af47",
   "metadata": {},
   "source": [
    "## Any observations on this graph?"
   ]
  },
  {
   "cell_type": "code",
   "execution_count": null,
   "id": "bbae8983-5089-46c4-881f-b2ff8dfa35a8",
   "metadata": {},
   "outputs": [],
   "source": []
  },
  {
   "cell_type": "markdown",
   "id": "bd47bd5c-aed7-4c9f-adca-9397a627896b",
   "metadata": {},
   "source": [
    "## Scatter Plot"
   ]
  },
  {
   "cell_type": "code",
   "execution_count": null,
   "id": "649dbc76-0c2c-4d8d-8ae8-8206740cae67",
   "metadata": {},
   "outputs": [],
   "source": [
    "plt.scatter(arrests['Apprehension Day'],arrests['age'],alpha=0.1) "
   ]
  },
  {
   "cell_type": "markdown",
   "id": "2d092c37-54a1-4d22-b67b-e539347ae9d2",
   "metadata": {},
   "source": [
    "### Time series"
   ]
  },
  {
   "cell_type": "code",
   "execution_count": null,
   "id": "72f7dfc5-8dcc-4403-a5f2-ad18830b3628",
   "metadata": {},
   "outputs": [],
   "source": [
    "arrests_by_day = arrests.groupby(by='Apprehension Day').count().reset_index()\n"
   ]
  },
  {
   "cell_type": "code",
   "execution_count": null,
   "id": "161a4a64-6135-43e5-b214-a0181d6f5df2",
   "metadata": {},
   "outputs": [],
   "source": [
    "plt.plot(arrests_by_day['Apprehension Day'],arrests_by_day['age'])\n",
    "plt.xlabel('Date')\n",
    "plt.ylabel('Count')\n",
    "plt.title('Arrests by date')\n",
    "plt.grid(True)"
   ]
  },
  {
   "cell_type": "markdown",
   "id": "e59b4601-1082-4837-b01c-95d376abcdfb",
   "metadata": {},
   "source": [
    "### Ratio of removals"
   ]
  },
  {
   "cell_type": "code",
   "execution_count": null,
   "id": "bdee5303-8eca-49de-b8fe-e9921e6b18f7",
   "metadata": {},
   "outputs": [],
   "source": [
    "removals = pd.read_csv('2025-ICLI-00019_2024-ICFO-39357_ICE Removals_2025.csv')\n",
    "removals['Departed Date'] = pd.to_datetime(removals['Departed Date'],format='%m/%d/%Y').dt.date"
   ]
  },
  {
   "cell_type": "code",
   "execution_count": null,
   "id": "61d5034f-90eb-4dc6-ae85-5f6db25ba9a6",
   "metadata": {},
   "outputs": [],
   "source": [
    "#Get count of removals by day\n",
    "removals_by_day = removals.groupby(by='Departed Date').count().reset_index()"
   ]
  },
  {
   "cell_type": "code",
   "execution_count": null,
   "id": "ce4d3973-15b2-446c-8c70-2d857fb10f33",
   "metadata": {
    "scrolled": true
   },
   "outputs": [],
   "source": [
    "#align days for arrests and removals\n",
    "combined_df = arrests_by_day.merge(removals_by_day,how='left', left_on='Apprehension Day', right_on='Departed Date')"
   ]
  },
  {
   "cell_type": "code",
   "execution_count": null,
   "id": "94c4a60a-1fb9-45e3-b089-65b4955dc0e2",
   "metadata": {},
   "outputs": [],
   "source": [
    "#Chose generic columns with counts\n",
    "combined_df['ratio'] = combined_df['Apprehension Date']/combined_df['Birth Date_y']\n",
    "combined_df = combined_df.dropna(subset = 'ratio')"
   ]
  },
  {
   "cell_type": "code",
   "execution_count": null,
   "id": "552ce395-de50-4b72-93bf-9a0920c019d9",
   "metadata": {},
   "outputs": [],
   "source": [
    "plt.plot(combined_df['Apprehension Day'],combined_df['ratio'])\n",
    "plt.xlabel('Date')\n",
    "plt.ylabel('Ratio of arrests to removals')\n",
    "plt.title('Ratio of arrests to removals by date')\n",
    "plt.grid(True)"
   ]
  },
  {
   "cell_type": "markdown",
   "id": "e69470da-3022-4128-8cd7-7c4123eb5c2a",
   "metadata": {},
   "source": [
    "### Summary stats"
   ]
  },
  {
   "cell_type": "code",
   "execution_count": null,
   "id": "b429297f-d8b0-42e2-9407-e1fd6c42e5c2",
   "metadata": {},
   "outputs": [],
   "source": [
    "summary = arrests.groupby('Apprehension Day')['age'].agg(\n",
    "    mean='mean',\n",
    "    median='median',\n",
    "    mode=lambda x: x.mode().iloc[0] if not x.mode().empty else None,\n",
    "    percentile_25=lambda x: x.quantile(0.25),\n",
    "    percentile_75=lambda x: x.quantile(0.75)\n",
    ").reset_index()"
   ]
  },
  {
   "cell_type": "code",
   "execution_count": null,
   "id": "298d3b36-f6d4-4797-9335-95fed92b33c4",
   "metadata": {},
   "outputs": [],
   "source": [
    "summary"
   ]
  },
  {
   "cell_type": "code",
   "execution_count": null,
   "id": "bee25a77-e9f5-479d-932f-3656f46d79ce",
   "metadata": {},
   "outputs": [],
   "source": [
    "plt.plot(summary['Apprehension Day'],summary['mean'])\n",
    "plt.xlabel('Date')\n",
    "plt.ylabel('Mean removal age')\n",
    "plt.title('Mean removal age over time')\n",
    "plt.grid(True)"
   ]
  }
 ],
 "metadata": {
  "kernelspec": {
   "display_name": "Python 3 (ipykernel)",
   "language": "python",
   "name": "python3"
  },
  "language_info": {
   "codemirror_mode": {
    "name": "ipython",
    "version": 3
   },
   "file_extension": ".py",
   "mimetype": "text/x-python",
   "name": "python",
   "nbconvert_exporter": "python",
   "pygments_lexer": "ipython3",
   "version": "3.11.13"
  }
 },
 "nbformat": 4,
 "nbformat_minor": 5
}
