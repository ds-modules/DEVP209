{
 "cells": [
  {
   "cell_type": "markdown",
   "id": "914fe88f",
   "metadata": {},
   "source": [
    "# DDP detention time: histogram and density (<185 days)"
   ]
  },
  {
   "cell_type": "code",
   "execution_count": null,
   "id": "dbb275e7",
   "metadata": {},
   "outputs": [],
   "source": [
    "import pandas as pd\n",
    "import numpy as np\n",
    "import matplotlib.pyplot as plt\n",
    "# If SciPy is available, we'll use it; otherwise we'll fall back to pandas' KDE\n",
    "try:\n",
    "    from scipy.stats import gaussian_kde\n",
    "    HAVE_SCIPY = True\n",
    "except Exception:\n",
    "    HAVE_SCIPY = False\n",
    "\n",
    "# 1) Load data (tab-delimited)\n",
    "df = pd.read_csv(\"DDPdata.csv\", sep=\"\\t\")\n",
    "\n",
    "# 2) Filter to nonnegative and <185 days\n",
    "x = df[\"detentiontime\"].dropna()\n",
    "x = x[(x >= 0) & (x < 185)].astype(float)\n",
    "print(f\"N in range [0, 185): {x.shape[0]:,}\")\n",
    "print(df.head())\n",
    "print(df.info())\n"
   ]
  },
  {
   "cell_type": "code",
   "execution_count": null,
   "id": "130b7047",
   "metadata": {},
   "outputs": [],
   "source": [
    "# 3) Histogram\n",
    "plt.figure(figsize=(8,6))\n",
    "plt.hist(x.values, bins=45, edgecolor=\"black\")\n",
    "plt.xlabel(\"Detention time (days)\")\n",
    "plt.ylabel(\"Number of individuals\")\n",
    "plt.title(\"Histogram of Detention Time (<185 days, 45 bins)\")\n",
    "plt.grid(axis=\"y\", alpha=0.5)\n",
    "plt.show()\n"
   ]
  },
  {
   "cell_type": "code",
   "execution_count": null,
   "id": "b514f249",
   "metadata": {},
   "outputs": [],
   "source": [
    "# 4) Boundary-corrected KDE (reflection at 0)\n",
    "import numpy as np\n",
    "\n",
    "grid = np.linspace(0, 185, 800)\n",
    "\n",
    "plt.figure(figsize=(8,6))\n",
    "if HAVE_SCIPY:\n",
    "    kde = gaussian_kde(x.values)\n",
    "    dens = kde(grid) + kde(-grid)          # reflection at 0\n",
    "    area = np.trapz(dens, grid)            # normalize on [0, 185]\n",
    "    if area > 0:\n",
    "        dens = dens / area\n",
    "    plt.plot(grid, dens)\n",
    "else:\n",
    "    # Fallback to pandas' KDE (not boundary-corrected, but available everywhere)\n",
    "    x.plot(kind=\"kde\")\n",
    "\n",
    "plt.xlabel(\"Detention time (days)\")\n",
    "plt.ylabel(\"Density\")\n",
    "plt.title(\"Kernel Density of Detention Time (<185 days)\\nBoundary-corrected at 0 (reflection)\")\n",
    "plt.grid(axis=\"y\", alpha=0.5)\n",
    "plt.show()\n"
   ]
  }
 ],
 "metadata": {},
 "nbformat": 4,
 "nbformat_minor": 5
}
