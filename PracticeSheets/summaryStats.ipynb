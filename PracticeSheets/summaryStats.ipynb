{
 "cells": [
  {
   "cell_type": "code",
   "execution_count": 2,
   "id": "3f249eac-4be9-4a05-83e1-1d98eb52abad",
   "metadata": {},
   "outputs": [],
   "source": [
    "import pandas as pd\n",
    "import datetime\n",
    "import numpy as np"
   ]
  },
  {
   "cell_type": "code",
   "execution_count": 3,
   "id": "5bc0ee1f-7332-4bc0-b792-b98a598d1209",
   "metadata": {},
   "outputs": [],
   "source": [
    "arrests = pd.read_csv('arrests.csv')#('2025-ICLI-00019_2024-ICFO-39357_ERO Admin Arrests.csv')"
   ]
  },
  {
   "cell_type": "code",
   "execution_count": 4,
   "id": "baf03fd9-bb5f-46c5-968c-e2af0a7714d4",
   "metadata": {},
   "outputs": [],
   "source": [
    "# For arrests, the data does not have age (or birth date) but it does have birth year, so bucket by that\n",
    "#Find the current year\n",
    "current_year = datetime.datetime.today().year #2025\n",
    "arrests['age'] = current_year - arrests['Birth Year']\n",
    "arrests['Apprehension Date'] = pd.to_datetime(arrests['Apprehension Date'],format='%m/%d/%Y %H:%M')\n",
    "arrests['Apprehension Day'] = arrests['Apprehension Date'].dt.date"
   ]
  },
  {
   "cell_type": "markdown",
   "id": "25dd2e7e-297e-4198-bafa-d2cb532ef757",
   "metadata": {
    "jp-MarkdownHeadingCollapsed": true
   },
   "source": [
    "These are basic ways to find statistics using a dataframe series or numpy array"
   ]
  },
  {
   "cell_type": "code",
   "execution_count": 4,
   "id": "0b376920-f566-4e5e-b099-9d0f075e82e7",
   "metadata": {},
   "outputs": [
    {
     "name": "stdout",
     "output_type": "stream",
     "text": [
      "=== Descriptive Statistics on 'age' ===\n",
      "Mean (Pandas): 35.04964445416362\n",
      "Mean (Manual): 35.04964445416362\n",
      "Mean (Verbose): 35.04964445416362\n"
     ]
    }
   ],
   "source": [
    "print(\"=== Descriptive Statistics on 'age' ===\")\n",
    "\n",
    "# --- MEAN ---\n",
    "mean_pandas = arrests['age'].mean()\n",
    "mean_manual = sum(arrests['age']) / len(arrests['age'])\n",
    "def find_mean_verbose(series):\n",
    "    tempSum = 0\n",
    "    count = len(series)\n",
    "    for val in series:\n",
    "        tempSum = tempSum + val\n",
    "    return tempSum/count\n",
    "mean_verbose = find_mean_verbose(arrests['age'])\n",
    "\n",
    "print(f\"Mean (Pandas): {mean_pandas}\")\n",
    "print(f\"Mean (Manual): {mean_manual}\")\n",
    "print(f\"Mean (Verbose): {mean_verbose}\")"
   ]
  },
  {
   "cell_type": "code",
   "execution_count": 5,
   "id": "f2c2c715-82cf-4d94-af7d-0cf9201d993a",
   "metadata": {},
   "outputs": [
    {
     "name": "stdout",
     "output_type": "stream",
     "text": [
      "\n",
      "Median (Pandas): 34.0\n",
      "Median (Manual - NumPy): 34.0\n"
     ]
    }
   ],
   "source": [
    "# --- MEDIAN ---\n",
    "median_pandas = arrests['age'].median()\n",
    "median_manual = np.median(arrests['age'])\n",
    "\n",
    "print(f\"\\nMedian (Pandas): {median_pandas}\")\n",
    "print(f\"Median (Manual - NumPy): {median_manual}\")"
   ]
  },
  {
   "cell_type": "code",
   "execution_count": 9,
   "id": "fb1ddc6e-5437-4296-8f0b-f30307f87b22",
   "metadata": {
    "scrolled": true
   },
   "outputs": [
    {
     "name": "stdout",
     "output_type": "stream",
     "text": [
      "\n",
      "Mode (Pandas): [33] (can show multiple modes)\n",
      "Mode (Manual): 33\n"
     ]
    }
   ],
   "source": [
    "# --- MODE ---\n",
    "mode_pandas = arrests['age'].mode()\n",
    "mode_manual = max(set(arrests['age']), key=list(arrests['age']).count)  # Only shows one mode\n",
    "\n",
    "print(f\"\\nMode (Pandas): {mode_pandas.tolist()} (can show multiple modes)\")\n",
    "print(f\"Mode (Manual): {mode_manual}\")"
   ]
  },
  {
   "cell_type": "code",
   "execution_count": 8,
   "id": "b0aad460-6927-4b61-819c-b53ac8b0d261",
   "metadata": {
    "scrolled": true
   },
   "outputs": [
    {
     "name": "stdout",
     "output_type": "stream",
     "text": [
      "\n",
      "Variance (Pandas): 121.40\n",
      "Variance (Manual - NumPy): 121.40\n",
      "Variance (Verbose): 121.40\n"
     ]
    }
   ],
   "source": [
    "# --- VARIANCE ---\n",
    "variance_pandas = arrests['age'].var()  # Sample variance (ddof=1)\n",
    "variance_manual = np.var(arrests['age'], ddof=1)\n",
    "def find_variance_verbose(series):\n",
    "    count = len(series)\n",
    "    mean = series.mean()\n",
    "    runningSoS = 0\n",
    "    for val in series:\n",
    "        runningSoS = runningSoS + (val-mean)**2\n",
    "    return runningSoS/(count-1)\n",
    "variance_verbose = find_variance_verbose(arrests['age'])\n",
    "\n",
    "print(f\"\\nVariance (Pandas): {variance_pandas:.2f}\")\n",
    "print(f\"Variance (Manual - NumPy): {variance_manual:.2f}\")\n",
    "print(f\"Variance (Verbose): {variance_verbose:.2f}\")"
   ]
  },
  {
   "cell_type": "markdown",
   "id": "489ce230-cae9-406f-8dd2-a9b613656762",
   "metadata": {},
   "source": [
    "### These are more complicated ways but allow some grouping by other values"
   ]
  },
  {
   "cell_type": "code",
   "execution_count": 16,
   "id": "e5985ea5-ef66-4241-b0f7-aa5227fc5539",
   "metadata": {
    "scrolled": true
   },
   "outputs": [
    {
     "data": {
      "text/html": [
       "<div>\n",
       "<style scoped>\n",
       "    .dataframe tbody tr th:only-of-type {\n",
       "        vertical-align: middle;\n",
       "    }\n",
       "\n",
       "    .dataframe tbody tr th {\n",
       "        vertical-align: top;\n",
       "    }\n",
       "\n",
       "    .dataframe thead th {\n",
       "        text-align: right;\n",
       "    }\n",
       "</style>\n",
       "<table border=\"1\" class=\"dataframe\">\n",
       "  <thead>\n",
       "    <tr style=\"text-align: right;\">\n",
       "      <th></th>\n",
       "      <th>mean</th>\n",
       "      <th>median</th>\n",
       "      <th>mode</th>\n",
       "      <th>count</th>\n",
       "    </tr>\n",
       "    <tr>\n",
       "      <th>Apprehension State</th>\n",
       "      <th></th>\n",
       "      <th></th>\n",
       "      <th></th>\n",
       "      <th></th>\n",
       "    </tr>\n",
       "  </thead>\n",
       "  <tbody>\n",
       "    <tr>\n",
       "      <th>ALABAMA</th>\n",
       "      <td>34.150597</td>\n",
       "      <td>33.0</td>\n",
       "      <td>26</td>\n",
       "      <td>4190</td>\n",
       "    </tr>\n",
       "    <tr>\n",
       "      <th>ALASKA</th>\n",
       "      <td>37.617647</td>\n",
       "      <td>38.5</td>\n",
       "      <td>41</td>\n",
       "      <td>68</td>\n",
       "    </tr>\n",
       "    <tr>\n",
       "      <th>ARIZONA</th>\n",
       "      <td>35.268225</td>\n",
       "      <td>34.0</td>\n",
       "      <td>31</td>\n",
       "      <td>5391</td>\n",
       "    </tr>\n",
       "    <tr>\n",
       "      <th>ARKANSAS</th>\n",
       "      <td>34.948914</td>\n",
       "      <td>34.0</td>\n",
       "      <td>25</td>\n",
       "      <td>3132</td>\n",
       "    </tr>\n",
       "    <tr>\n",
       "      <th>ARMED FORCES - EUROPE</th>\n",
       "      <td>36.500000</td>\n",
       "      <td>36.5</td>\n",
       "      <td>34</td>\n",
       "      <td>2</td>\n",
       "    </tr>\n",
       "    <tr>\n",
       "      <th>...</th>\n",
       "      <td>...</td>\n",
       "      <td>...</td>\n",
       "      <td>...</td>\n",
       "      <td>...</td>\n",
       "    </tr>\n",
       "    <tr>\n",
       "      <th>VIRGINIA</th>\n",
       "      <td>34.092712</td>\n",
       "      <td>33.0</td>\n",
       "      <td>30</td>\n",
       "      <td>5447</td>\n",
       "    </tr>\n",
       "    <tr>\n",
       "      <th>WASHINGTON</th>\n",
       "      <td>34.444690</td>\n",
       "      <td>34.0</td>\n",
       "      <td>31</td>\n",
       "      <td>2260</td>\n",
       "    </tr>\n",
       "    <tr>\n",
       "      <th>WEST VIRGINIA</th>\n",
       "      <td>36.960967</td>\n",
       "      <td>36.0</td>\n",
       "      <td>31</td>\n",
       "      <td>538</td>\n",
       "    </tr>\n",
       "    <tr>\n",
       "      <th>WISCONSIN</th>\n",
       "      <td>34.990297</td>\n",
       "      <td>34.0</td>\n",
       "      <td>31</td>\n",
       "      <td>1649</td>\n",
       "    </tr>\n",
       "    <tr>\n",
       "      <th>WYOMING</th>\n",
       "      <td>33.581579</td>\n",
       "      <td>33.0</td>\n",
       "      <td>32</td>\n",
       "      <td>380</td>\n",
       "    </tr>\n",
       "  </tbody>\n",
       "</table>\n",
       "<p>61 rows × 4 columns</p>\n",
       "</div>"
      ],
      "text/plain": [
       "                            mean  median  mode  count\n",
       "Apprehension State                                   \n",
       "ALABAMA                34.150597    33.0    26   4190\n",
       "ALASKA                 37.617647    38.5    41     68\n",
       "ARIZONA                35.268225    34.0    31   5391\n",
       "ARKANSAS               34.948914    34.0    25   3132\n",
       "ARMED FORCES - EUROPE  36.500000    36.5    34      2\n",
       "...                          ...     ...   ...    ...\n",
       "VIRGINIA               34.092712    33.0    30   5447\n",
       "WASHINGTON             34.444690    34.0    31   2260\n",
       "WEST VIRGINIA          36.960967    36.0    31    538\n",
       "WISCONSIN              34.990297    34.0    31   1649\n",
       "WYOMING                33.581579    33.0    32    380\n",
       "\n",
       "[61 rows x 4 columns]"
      ]
     },
     "execution_count": 16,
     "metadata": {},
     "output_type": "execute_result"
    }
   ],
   "source": [
    "arrests.groupby('Apprehension State')['age'].agg(\n",
    "    mean='mean',\n",
    "    median='median',\n",
    "    mode=lambda x: x.mode().iloc[0] if not x.mode().empty else None,\n",
    "    count='count'\n",
    ")"
   ]
  },
  {
   "cell_type": "code",
   "execution_count": 21,
   "id": "b762deae-2fb1-41bd-8fb1-cf37f79b85dd",
   "metadata": {
    "scrolled": true
   },
   "outputs": [
    {
     "data": {
      "text/html": [
       "<div>\n",
       "<style scoped>\n",
       "    .dataframe tbody tr th:only-of-type {\n",
       "        vertical-align: middle;\n",
       "    }\n",
       "\n",
       "    .dataframe tbody tr th {\n",
       "        vertical-align: top;\n",
       "    }\n",
       "\n",
       "    .dataframe thead th {\n",
       "        text-align: right;\n",
       "    }\n",
       "</style>\n",
       "<table border=\"1\" class=\"dataframe\">\n",
       "  <thead>\n",
       "    <tr style=\"text-align: right;\">\n",
       "      <th></th>\n",
       "      <th></th>\n",
       "      <th>mean</th>\n",
       "      <th>median</th>\n",
       "      <th>mode</th>\n",
       "      <th>count</th>\n",
       "    </tr>\n",
       "    <tr>\n",
       "      <th>Apprehension State</th>\n",
       "      <th>Gender</th>\n",
       "      <th></th>\n",
       "      <th></th>\n",
       "      <th></th>\n",
       "      <th></th>\n",
       "    </tr>\n",
       "  </thead>\n",
       "  <tbody>\n",
       "    <tr>\n",
       "      <th rowspan=\"3\" valign=\"top\">ALABAMA</th>\n",
       "      <th>Female</th>\n",
       "      <td>37.493289</td>\n",
       "      <td>36.0</td>\n",
       "      <td>36</td>\n",
       "      <td>596</td>\n",
       "    </tr>\n",
       "    <tr>\n",
       "      <th>Male</th>\n",
       "      <td>33.590808</td>\n",
       "      <td>32.0</td>\n",
       "      <td>26</td>\n",
       "      <td>3590</td>\n",
       "    </tr>\n",
       "    <tr>\n",
       "      <th>Unknown</th>\n",
       "      <td>38.500000</td>\n",
       "      <td>37.0</td>\n",
       "      <td>37</td>\n",
       "      <td>4</td>\n",
       "    </tr>\n",
       "    <tr>\n",
       "      <th rowspan=\"2\" valign=\"top\">ALASKA</th>\n",
       "      <th>Female</th>\n",
       "      <td>37.000000</td>\n",
       "      <td>38.0</td>\n",
       "      <td>56</td>\n",
       "      <td>7</td>\n",
       "    </tr>\n",
       "    <tr>\n",
       "      <th>Male</th>\n",
       "      <td>37.688525</td>\n",
       "      <td>39.0</td>\n",
       "      <td>41</td>\n",
       "      <td>61</td>\n",
       "    </tr>\n",
       "    <tr>\n",
       "      <th>...</th>\n",
       "      <th>...</th>\n",
       "      <td>...</td>\n",
       "      <td>...</td>\n",
       "      <td>...</td>\n",
       "      <td>...</td>\n",
       "    </tr>\n",
       "    <tr>\n",
       "      <th rowspan=\"2\" valign=\"top\">WISCONSIN</th>\n",
       "      <th>Female</th>\n",
       "      <td>31.527675</td>\n",
       "      <td>31.0</td>\n",
       "      <td>24</td>\n",
       "      <td>271</td>\n",
       "    </tr>\n",
       "    <tr>\n",
       "      <th>Male</th>\n",
       "      <td>35.671263</td>\n",
       "      <td>35.0</td>\n",
       "      <td>31</td>\n",
       "      <td>1378</td>\n",
       "    </tr>\n",
       "    <tr>\n",
       "      <th rowspan=\"3\" valign=\"top\">WYOMING</th>\n",
       "      <th>Female</th>\n",
       "      <td>29.482759</td>\n",
       "      <td>29.0</td>\n",
       "      <td>26</td>\n",
       "      <td>29</td>\n",
       "    </tr>\n",
       "    <tr>\n",
       "      <th>Male</th>\n",
       "      <td>33.824207</td>\n",
       "      <td>33.0</td>\n",
       "      <td>32</td>\n",
       "      <td>347</td>\n",
       "    </tr>\n",
       "    <tr>\n",
       "      <th>Unknown</th>\n",
       "      <td>42.250000</td>\n",
       "      <td>40.5</td>\n",
       "      <td>34</td>\n",
       "      <td>4</td>\n",
       "    </tr>\n",
       "  </tbody>\n",
       "</table>\n",
       "<p>156 rows × 4 columns</p>\n",
       "</div>"
      ],
      "text/plain": [
       "                                 mean  median  mode  count\n",
       "Apprehension State Gender                                 \n",
       "ALABAMA            Female   37.493289    36.0    36    596\n",
       "                   Male     33.590808    32.0    26   3590\n",
       "                   Unknown  38.500000    37.0    37      4\n",
       "ALASKA             Female   37.000000    38.0    56      7\n",
       "                   Male     37.688525    39.0    41     61\n",
       "...                               ...     ...   ...    ...\n",
       "WISCONSIN          Female   31.527675    31.0    24    271\n",
       "                   Male     35.671263    35.0    31   1378\n",
       "WYOMING            Female   29.482759    29.0    26     29\n",
       "                   Male     33.824207    33.0    32    347\n",
       "                   Unknown  42.250000    40.5    34      4\n",
       "\n",
       "[156 rows x 4 columns]"
      ]
     },
     "execution_count": 21,
     "metadata": {},
     "output_type": "execute_result"
    }
   ],
   "source": [
    "arrests.groupby(['Apprehension State','Gender'])['age'].agg(\n",
    "    mean='mean',\n",
    "    median='median',\n",
    "    mode=lambda x: x.mode().iloc[0] if not x.mode().empty else None,\n",
    "    count='count'\n",
    ")"
   ]
  }
 ],
 "metadata": {
  "kernelspec": {
   "display_name": "Python 3 (ipykernel)",
   "language": "python",
   "name": "python3"
  },
  "language_info": {
   "codemirror_mode": {
    "name": "ipython",
    "version": 3
   },
   "file_extension": ".py",
   "mimetype": "text/x-python",
   "name": "python",
   "nbconvert_exporter": "python",
   "pygments_lexer": "ipython3",
   "version": "3.11.13"
  }
 },
 "nbformat": 4,
 "nbformat_minor": 5
}
